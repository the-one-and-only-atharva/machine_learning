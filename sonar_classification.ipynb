{
 "cells": [
  {
   "cell_type": "code",
   "execution_count": 21,
   "metadata": {},
   "outputs": [],
   "source": [
    "import tensorflow as tf\n",
    "import numpy as np\n",
    "import pandas as pd\n",
    "import matplotlib.pyplot as plt\n",
    "import seaborn as sns"
   ]
  },
  {
   "cell_type": "code",
   "execution_count": 22,
   "metadata": {},
   "outputs": [
    {
     "data": {
      "text/html": [
       "<div>\n",
       "<style scoped>\n",
       "    .dataframe tbody tr th:only-of-type {\n",
       "        vertical-align: middle;\n",
       "    }\n",
       "\n",
       "    .dataframe tbody tr th {\n",
       "        vertical-align: top;\n",
       "    }\n",
       "\n",
       "    .dataframe thead th {\n",
       "        text-align: right;\n",
       "    }\n",
       "</style>\n",
       "<table border=\"1\" class=\"dataframe\">\n",
       "  <thead>\n",
       "    <tr style=\"text-align: right;\">\n",
       "      <th></th>\n",
       "      <th>0</th>\n",
       "      <th>1</th>\n",
       "      <th>2</th>\n",
       "      <th>3</th>\n",
       "      <th>4</th>\n",
       "      <th>5</th>\n",
       "      <th>6</th>\n",
       "      <th>7</th>\n",
       "      <th>8</th>\n",
       "      <th>9</th>\n",
       "      <th>...</th>\n",
       "      <th>51</th>\n",
       "      <th>52</th>\n",
       "      <th>53</th>\n",
       "      <th>54</th>\n",
       "      <th>55</th>\n",
       "      <th>56</th>\n",
       "      <th>57</th>\n",
       "      <th>58</th>\n",
       "      <th>59</th>\n",
       "      <th>60</th>\n",
       "    </tr>\n",
       "  </thead>\n",
       "  <tbody>\n",
       "    <tr>\n",
       "      <th>0</th>\n",
       "      <td>0.0200</td>\n",
       "      <td>0.0371</td>\n",
       "      <td>0.0428</td>\n",
       "      <td>0.0207</td>\n",
       "      <td>0.0954</td>\n",
       "      <td>0.0986</td>\n",
       "      <td>0.1539</td>\n",
       "      <td>0.1601</td>\n",
       "      <td>0.3109</td>\n",
       "      <td>0.2111</td>\n",
       "      <td>...</td>\n",
       "      <td>0.0027</td>\n",
       "      <td>0.0065</td>\n",
       "      <td>0.0159</td>\n",
       "      <td>0.0072</td>\n",
       "      <td>0.0167</td>\n",
       "      <td>0.0180</td>\n",
       "      <td>0.0084</td>\n",
       "      <td>0.0090</td>\n",
       "      <td>0.0032</td>\n",
       "      <td>R</td>\n",
       "    </tr>\n",
       "    <tr>\n",
       "      <th>1</th>\n",
       "      <td>0.0453</td>\n",
       "      <td>0.0523</td>\n",
       "      <td>0.0843</td>\n",
       "      <td>0.0689</td>\n",
       "      <td>0.1183</td>\n",
       "      <td>0.2583</td>\n",
       "      <td>0.2156</td>\n",
       "      <td>0.3481</td>\n",
       "      <td>0.3337</td>\n",
       "      <td>0.2872</td>\n",
       "      <td>...</td>\n",
       "      <td>0.0084</td>\n",
       "      <td>0.0089</td>\n",
       "      <td>0.0048</td>\n",
       "      <td>0.0094</td>\n",
       "      <td>0.0191</td>\n",
       "      <td>0.0140</td>\n",
       "      <td>0.0049</td>\n",
       "      <td>0.0052</td>\n",
       "      <td>0.0044</td>\n",
       "      <td>R</td>\n",
       "    </tr>\n",
       "    <tr>\n",
       "      <th>2</th>\n",
       "      <td>0.0262</td>\n",
       "      <td>0.0582</td>\n",
       "      <td>0.1099</td>\n",
       "      <td>0.1083</td>\n",
       "      <td>0.0974</td>\n",
       "      <td>0.2280</td>\n",
       "      <td>0.2431</td>\n",
       "      <td>0.3771</td>\n",
       "      <td>0.5598</td>\n",
       "      <td>0.6194</td>\n",
       "      <td>...</td>\n",
       "      <td>0.0232</td>\n",
       "      <td>0.0166</td>\n",
       "      <td>0.0095</td>\n",
       "      <td>0.0180</td>\n",
       "      <td>0.0244</td>\n",
       "      <td>0.0316</td>\n",
       "      <td>0.0164</td>\n",
       "      <td>0.0095</td>\n",
       "      <td>0.0078</td>\n",
       "      <td>R</td>\n",
       "    </tr>\n",
       "    <tr>\n",
       "      <th>3</th>\n",
       "      <td>0.0100</td>\n",
       "      <td>0.0171</td>\n",
       "      <td>0.0623</td>\n",
       "      <td>0.0205</td>\n",
       "      <td>0.0205</td>\n",
       "      <td>0.0368</td>\n",
       "      <td>0.1098</td>\n",
       "      <td>0.1276</td>\n",
       "      <td>0.0598</td>\n",
       "      <td>0.1264</td>\n",
       "      <td>...</td>\n",
       "      <td>0.0121</td>\n",
       "      <td>0.0036</td>\n",
       "      <td>0.0150</td>\n",
       "      <td>0.0085</td>\n",
       "      <td>0.0073</td>\n",
       "      <td>0.0050</td>\n",
       "      <td>0.0044</td>\n",
       "      <td>0.0040</td>\n",
       "      <td>0.0117</td>\n",
       "      <td>R</td>\n",
       "    </tr>\n",
       "    <tr>\n",
       "      <th>4</th>\n",
       "      <td>0.0762</td>\n",
       "      <td>0.0666</td>\n",
       "      <td>0.0481</td>\n",
       "      <td>0.0394</td>\n",
       "      <td>0.0590</td>\n",
       "      <td>0.0649</td>\n",
       "      <td>0.1209</td>\n",
       "      <td>0.2467</td>\n",
       "      <td>0.3564</td>\n",
       "      <td>0.4459</td>\n",
       "      <td>...</td>\n",
       "      <td>0.0031</td>\n",
       "      <td>0.0054</td>\n",
       "      <td>0.0105</td>\n",
       "      <td>0.0110</td>\n",
       "      <td>0.0015</td>\n",
       "      <td>0.0072</td>\n",
       "      <td>0.0048</td>\n",
       "      <td>0.0107</td>\n",
       "      <td>0.0094</td>\n",
       "      <td>R</td>\n",
       "    </tr>\n",
       "    <tr>\n",
       "      <th>...</th>\n",
       "      <td>...</td>\n",
       "      <td>...</td>\n",
       "      <td>...</td>\n",
       "      <td>...</td>\n",
       "      <td>...</td>\n",
       "      <td>...</td>\n",
       "      <td>...</td>\n",
       "      <td>...</td>\n",
       "      <td>...</td>\n",
       "      <td>...</td>\n",
       "      <td>...</td>\n",
       "      <td>...</td>\n",
       "      <td>...</td>\n",
       "      <td>...</td>\n",
       "      <td>...</td>\n",
       "      <td>...</td>\n",
       "      <td>...</td>\n",
       "      <td>...</td>\n",
       "      <td>...</td>\n",
       "      <td>...</td>\n",
       "      <td>...</td>\n",
       "    </tr>\n",
       "    <tr>\n",
       "      <th>203</th>\n",
       "      <td>0.0187</td>\n",
       "      <td>0.0346</td>\n",
       "      <td>0.0168</td>\n",
       "      <td>0.0177</td>\n",
       "      <td>0.0393</td>\n",
       "      <td>0.1630</td>\n",
       "      <td>0.2028</td>\n",
       "      <td>0.1694</td>\n",
       "      <td>0.2328</td>\n",
       "      <td>0.2684</td>\n",
       "      <td>...</td>\n",
       "      <td>0.0116</td>\n",
       "      <td>0.0098</td>\n",
       "      <td>0.0199</td>\n",
       "      <td>0.0033</td>\n",
       "      <td>0.0101</td>\n",
       "      <td>0.0065</td>\n",
       "      <td>0.0115</td>\n",
       "      <td>0.0193</td>\n",
       "      <td>0.0157</td>\n",
       "      <td>M</td>\n",
       "    </tr>\n",
       "    <tr>\n",
       "      <th>204</th>\n",
       "      <td>0.0323</td>\n",
       "      <td>0.0101</td>\n",
       "      <td>0.0298</td>\n",
       "      <td>0.0564</td>\n",
       "      <td>0.0760</td>\n",
       "      <td>0.0958</td>\n",
       "      <td>0.0990</td>\n",
       "      <td>0.1018</td>\n",
       "      <td>0.1030</td>\n",
       "      <td>0.2154</td>\n",
       "      <td>...</td>\n",
       "      <td>0.0061</td>\n",
       "      <td>0.0093</td>\n",
       "      <td>0.0135</td>\n",
       "      <td>0.0063</td>\n",
       "      <td>0.0063</td>\n",
       "      <td>0.0034</td>\n",
       "      <td>0.0032</td>\n",
       "      <td>0.0062</td>\n",
       "      <td>0.0067</td>\n",
       "      <td>M</td>\n",
       "    </tr>\n",
       "    <tr>\n",
       "      <th>205</th>\n",
       "      <td>0.0522</td>\n",
       "      <td>0.0437</td>\n",
       "      <td>0.0180</td>\n",
       "      <td>0.0292</td>\n",
       "      <td>0.0351</td>\n",
       "      <td>0.1171</td>\n",
       "      <td>0.1257</td>\n",
       "      <td>0.1178</td>\n",
       "      <td>0.1258</td>\n",
       "      <td>0.2529</td>\n",
       "      <td>...</td>\n",
       "      <td>0.0160</td>\n",
       "      <td>0.0029</td>\n",
       "      <td>0.0051</td>\n",
       "      <td>0.0062</td>\n",
       "      <td>0.0089</td>\n",
       "      <td>0.0140</td>\n",
       "      <td>0.0138</td>\n",
       "      <td>0.0077</td>\n",
       "      <td>0.0031</td>\n",
       "      <td>M</td>\n",
       "    </tr>\n",
       "    <tr>\n",
       "      <th>206</th>\n",
       "      <td>0.0303</td>\n",
       "      <td>0.0353</td>\n",
       "      <td>0.0490</td>\n",
       "      <td>0.0608</td>\n",
       "      <td>0.0167</td>\n",
       "      <td>0.1354</td>\n",
       "      <td>0.1465</td>\n",
       "      <td>0.1123</td>\n",
       "      <td>0.1945</td>\n",
       "      <td>0.2354</td>\n",
       "      <td>...</td>\n",
       "      <td>0.0086</td>\n",
       "      <td>0.0046</td>\n",
       "      <td>0.0126</td>\n",
       "      <td>0.0036</td>\n",
       "      <td>0.0035</td>\n",
       "      <td>0.0034</td>\n",
       "      <td>0.0079</td>\n",
       "      <td>0.0036</td>\n",
       "      <td>0.0048</td>\n",
       "      <td>M</td>\n",
       "    </tr>\n",
       "    <tr>\n",
       "      <th>207</th>\n",
       "      <td>0.0260</td>\n",
       "      <td>0.0363</td>\n",
       "      <td>0.0136</td>\n",
       "      <td>0.0272</td>\n",
       "      <td>0.0214</td>\n",
       "      <td>0.0338</td>\n",
       "      <td>0.0655</td>\n",
       "      <td>0.1400</td>\n",
       "      <td>0.1843</td>\n",
       "      <td>0.2354</td>\n",
       "      <td>...</td>\n",
       "      <td>0.0146</td>\n",
       "      <td>0.0129</td>\n",
       "      <td>0.0047</td>\n",
       "      <td>0.0039</td>\n",
       "      <td>0.0061</td>\n",
       "      <td>0.0040</td>\n",
       "      <td>0.0036</td>\n",
       "      <td>0.0061</td>\n",
       "      <td>0.0115</td>\n",
       "      <td>M</td>\n",
       "    </tr>\n",
       "  </tbody>\n",
       "</table>\n",
       "<p>208 rows × 61 columns</p>\n",
       "</div>"
      ],
      "text/plain": [
       "         0       1       2       3       4       5       6       7       8   \\\n",
       "0    0.0200  0.0371  0.0428  0.0207  0.0954  0.0986  0.1539  0.1601  0.3109   \n",
       "1    0.0453  0.0523  0.0843  0.0689  0.1183  0.2583  0.2156  0.3481  0.3337   \n",
       "2    0.0262  0.0582  0.1099  0.1083  0.0974  0.2280  0.2431  0.3771  0.5598   \n",
       "3    0.0100  0.0171  0.0623  0.0205  0.0205  0.0368  0.1098  0.1276  0.0598   \n",
       "4    0.0762  0.0666  0.0481  0.0394  0.0590  0.0649  0.1209  0.2467  0.3564   \n",
       "..      ...     ...     ...     ...     ...     ...     ...     ...     ...   \n",
       "203  0.0187  0.0346  0.0168  0.0177  0.0393  0.1630  0.2028  0.1694  0.2328   \n",
       "204  0.0323  0.0101  0.0298  0.0564  0.0760  0.0958  0.0990  0.1018  0.1030   \n",
       "205  0.0522  0.0437  0.0180  0.0292  0.0351  0.1171  0.1257  0.1178  0.1258   \n",
       "206  0.0303  0.0353  0.0490  0.0608  0.0167  0.1354  0.1465  0.1123  0.1945   \n",
       "207  0.0260  0.0363  0.0136  0.0272  0.0214  0.0338  0.0655  0.1400  0.1843   \n",
       "\n",
       "         9   ...      51      52      53      54      55      56      57  \\\n",
       "0    0.2111  ...  0.0027  0.0065  0.0159  0.0072  0.0167  0.0180  0.0084   \n",
       "1    0.2872  ...  0.0084  0.0089  0.0048  0.0094  0.0191  0.0140  0.0049   \n",
       "2    0.6194  ...  0.0232  0.0166  0.0095  0.0180  0.0244  0.0316  0.0164   \n",
       "3    0.1264  ...  0.0121  0.0036  0.0150  0.0085  0.0073  0.0050  0.0044   \n",
       "4    0.4459  ...  0.0031  0.0054  0.0105  0.0110  0.0015  0.0072  0.0048   \n",
       "..      ...  ...     ...     ...     ...     ...     ...     ...     ...   \n",
       "203  0.2684  ...  0.0116  0.0098  0.0199  0.0033  0.0101  0.0065  0.0115   \n",
       "204  0.2154  ...  0.0061  0.0093  0.0135  0.0063  0.0063  0.0034  0.0032   \n",
       "205  0.2529  ...  0.0160  0.0029  0.0051  0.0062  0.0089  0.0140  0.0138   \n",
       "206  0.2354  ...  0.0086  0.0046  0.0126  0.0036  0.0035  0.0034  0.0079   \n",
       "207  0.2354  ...  0.0146  0.0129  0.0047  0.0039  0.0061  0.0040  0.0036   \n",
       "\n",
       "         58      59  60  \n",
       "0    0.0090  0.0032   R  \n",
       "1    0.0052  0.0044   R  \n",
       "2    0.0095  0.0078   R  \n",
       "3    0.0040  0.0117   R  \n",
       "4    0.0107  0.0094   R  \n",
       "..      ...     ...  ..  \n",
       "203  0.0193  0.0157   M  \n",
       "204  0.0062  0.0067   M  \n",
       "205  0.0077  0.0031   M  \n",
       "206  0.0036  0.0048   M  \n",
       "207  0.0061  0.0115   M  \n",
       "\n",
       "[208 rows x 61 columns]"
      ]
     },
     "execution_count": 22,
     "metadata": {},
     "output_type": "execute_result"
    }
   ],
   "source": [
    "df = pd.read_csv('/Users/atharva/Desktop/Deep Learning/sonar_dataset.csv', header=None)\n",
    "df"
   ]
  },
  {
   "cell_type": "code",
   "execution_count": 23,
   "metadata": {},
   "outputs": [
    {
     "data": {
      "text/plain": [
       "(208, 61)"
      ]
     },
     "execution_count": 23,
     "metadata": {},
     "output_type": "execute_result"
    }
   ],
   "source": [
    "df.shape"
   ]
  },
  {
   "cell_type": "code",
   "execution_count": 24,
   "metadata": {},
   "outputs": [
    {
     "data": {
      "text/plain": [
       "0     0\n",
       "1     0\n",
       "2     0\n",
       "3     0\n",
       "4     0\n",
       "     ..\n",
       "56    0\n",
       "57    0\n",
       "58    0\n",
       "59    0\n",
       "60    0\n",
       "Length: 61, dtype: int64"
      ]
     },
     "execution_count": 24,
     "metadata": {},
     "output_type": "execute_result"
    }
   ],
   "source": [
    "df.isnull().sum()"
   ]
  },
  {
   "cell_type": "code",
   "execution_count": 25,
   "metadata": {},
   "outputs": [
    {
     "data": {
      "text/plain": [
       "Index([ 0,  1,  2,  3,  4,  5,  6,  7,  8,  9, 10, 11, 12, 13, 14, 15, 16, 17,\n",
       "       18, 19, 20, 21, 22, 23, 24, 25, 26, 27, 28, 29, 30, 31, 32, 33, 34, 35,\n",
       "       36, 37, 38, 39, 40, 41, 42, 43, 44, 45, 46, 47, 48, 49, 50, 51, 52, 53,\n",
       "       54, 55, 56, 57, 58, 59, 60],\n",
       "      dtype='int64')"
      ]
     },
     "execution_count": 25,
     "metadata": {},
     "output_type": "execute_result"
    }
   ],
   "source": [
    "df.columns"
   ]
  },
  {
   "cell_type": "code",
   "execution_count": 26,
   "metadata": {},
   "outputs": [
    {
     "data": {
      "text/plain": [
       "60\n",
       "M    111\n",
       "R     97\n",
       "Name: count, dtype: int64"
      ]
     },
     "execution_count": 26,
     "metadata": {},
     "output_type": "execute_result"
    }
   ],
   "source": [
    "df[60].value_counts()"
   ]
  },
  {
   "cell_type": "code",
   "execution_count": 27,
   "metadata": {},
   "outputs": [
    {
     "data": {
      "text/plain": [
       "0      R\n",
       "1      R\n",
       "2      R\n",
       "3      R\n",
       "4      R\n",
       "      ..\n",
       "203    M\n",
       "204    M\n",
       "205    M\n",
       "206    M\n",
       "207    M\n",
       "Name: 60, Length: 208, dtype: object"
      ]
     },
     "execution_count": 27,
     "metadata": {},
     "output_type": "execute_result"
    }
   ],
   "source": [
    "X = df.drop(60, axis=1)\n",
    "y = df[60]\n",
    "\n",
    "y"
   ]
  },
  {
   "cell_type": "code",
   "execution_count": 28,
   "metadata": {},
   "outputs": [
    {
     "data": {
      "text/html": [
       "<div>\n",
       "<style scoped>\n",
       "    .dataframe tbody tr th:only-of-type {\n",
       "        vertical-align: middle;\n",
       "    }\n",
       "\n",
       "    .dataframe tbody tr th {\n",
       "        vertical-align: top;\n",
       "    }\n",
       "\n",
       "    .dataframe thead th {\n",
       "        text-align: right;\n",
       "    }\n",
       "</style>\n",
       "<table border=\"1\" class=\"dataframe\">\n",
       "  <thead>\n",
       "    <tr style=\"text-align: right;\">\n",
       "      <th></th>\n",
       "      <th>R</th>\n",
       "    </tr>\n",
       "  </thead>\n",
       "  <tbody>\n",
       "    <tr>\n",
       "      <th>90</th>\n",
       "      <td>1</td>\n",
       "    </tr>\n",
       "    <tr>\n",
       "      <th>6</th>\n",
       "      <td>1</td>\n",
       "    </tr>\n",
       "    <tr>\n",
       "      <th>171</th>\n",
       "      <td>0</td>\n",
       "    </tr>\n",
       "    <tr>\n",
       "      <th>106</th>\n",
       "      <td>0</td>\n",
       "    </tr>\n",
       "    <tr>\n",
       "      <th>22</th>\n",
       "      <td>1</td>\n",
       "    </tr>\n",
       "  </tbody>\n",
       "</table>\n",
       "</div>"
      ],
      "text/plain": [
       "     R\n",
       "90   1\n",
       "6    1\n",
       "171  0\n",
       "106  0\n",
       "22   1"
      ]
     },
     "execution_count": 28,
     "metadata": {},
     "output_type": "execute_result"
    }
   ],
   "source": [
    "y = pd.get_dummies(y, dtype='int64',drop_first=True)\n",
    "y.sample(5)"
   ]
  },
  {
   "cell_type": "code",
   "execution_count": 29,
   "metadata": {},
   "outputs": [
    {
     "data": {
      "text/plain": [
       "R\n",
       "0    111\n",
       "1     97\n",
       "Name: count, dtype: int64"
      ]
     },
     "execution_count": 29,
     "metadata": {},
     "output_type": "execute_result"
    }
   ],
   "source": [
    "y.value_counts()"
   ]
  },
  {
   "cell_type": "code",
   "execution_count": 30,
   "metadata": {},
   "outputs": [],
   "source": [
    "from sklearn.model_selection import train_test_split\n",
    "\n",
    "X_train, X_test, y_train, y_test = train_test_split(X, y, test_size=0.25, random_state=42)"
   ]
  },
  {
   "cell_type": "code",
   "execution_count": 31,
   "metadata": {},
   "outputs": [
    {
     "data": {
      "text/plain": [
       "(156, 60)"
      ]
     },
     "execution_count": 31,
     "metadata": {},
     "output_type": "execute_result"
    }
   ],
   "source": [
    "X_train.shape"
   ]
  },
  {
   "cell_type": "code",
   "execution_count": 32,
   "metadata": {},
   "outputs": [
    {
     "data": {
      "text/plain": [
       "(52, 60)"
      ]
     },
     "execution_count": 32,
     "metadata": {},
     "output_type": "execute_result"
    }
   ],
   "source": [
    "X_test.shape"
   ]
  },
  {
   "cell_type": "code",
   "execution_count": 33,
   "metadata": {},
   "outputs": [
    {
     "name": "stdout",
     "output_type": "stream",
     "text": [
      "Epoch 1/100\n",
      "1/5 [=====>........................] - ETA: 1s - loss: 0.7891 - accuracy: 0.3750"
     ]
    },
    {
     "name": "stderr",
     "output_type": "stream",
     "text": [
      "2024-06-17 23:59:23.407787: I tensorflow/core/grappler/optimizers/custom_graph_optimizer_registry.cc:114] Plugin optimizer for device_type GPU is enabled.\n"
     ]
    },
    {
     "name": "stdout",
     "output_type": "stream",
     "text": [
      "5/5 [==============================] - 0s 24ms/step - loss: 0.7307 - accuracy: 0.4872\n",
      "Epoch 2/100\n",
      "5/5 [==============================] - 0s 6ms/step - loss: 0.7121 - accuracy: 0.4487\n",
      "Epoch 3/100\n",
      "5/5 [==============================] - 0s 9ms/step - loss: 0.7022 - accuracy: 0.4872\n",
      "Epoch 4/100\n",
      "5/5 [==============================] - 0s 5ms/step - loss: 0.6940 - accuracy: 0.5064\n",
      "Epoch 5/100\n",
      "5/5 [==============================] - 0s 5ms/step - loss: 0.6901 - accuracy: 0.5577\n",
      "Epoch 6/100\n",
      "5/5 [==============================] - 0s 5ms/step - loss: 0.6807 - accuracy: 0.6154\n",
      "Epoch 7/100\n",
      "5/5 [==============================] - 0s 5ms/step - loss: 0.6731 - accuracy: 0.5769\n",
      "Epoch 8/100\n",
      "5/5 [==============================] - 0s 5ms/step - loss: 0.6642 - accuracy: 0.6090\n",
      "Epoch 9/100\n",
      "5/5 [==============================] - 0s 5ms/step - loss: 0.6545 - accuracy: 0.6474\n",
      "Epoch 10/100\n",
      "5/5 [==============================] - 0s 5ms/step - loss: 0.6449 - accuracy: 0.6538\n",
      "Epoch 11/100\n",
      "5/5 [==============================] - 0s 5ms/step - loss: 0.6395 - accuracy: 0.6154\n",
      "Epoch 12/100\n",
      "5/5 [==============================] - 0s 5ms/step - loss: 0.6249 - accuracy: 0.6346\n",
      "Epoch 13/100\n",
      "5/5 [==============================] - 0s 5ms/step - loss: 0.6163 - accuracy: 0.6603\n",
      "Epoch 14/100\n",
      "5/5 [==============================] - 0s 5ms/step - loss: 0.6012 - accuracy: 0.6923\n",
      "Epoch 15/100\n",
      "5/5 [==============================] - 0s 5ms/step - loss: 0.5898 - accuracy: 0.7051\n",
      "Epoch 16/100\n",
      "5/5 [==============================] - 0s 5ms/step - loss: 0.5811 - accuracy: 0.7051\n",
      "Epoch 17/100\n",
      "5/5 [==============================] - 0s 5ms/step - loss: 0.5673 - accuracy: 0.6987\n",
      "Epoch 18/100\n",
      "5/5 [==============================] - 0s 5ms/step - loss: 0.5535 - accuracy: 0.7244\n",
      "Epoch 19/100\n",
      "5/5 [==============================] - 0s 5ms/step - loss: 0.5439 - accuracy: 0.7436\n",
      "Epoch 20/100\n",
      "5/5 [==============================] - 0s 5ms/step - loss: 0.5329 - accuracy: 0.7564\n",
      "Epoch 21/100\n",
      "5/5 [==============================] - 0s 5ms/step - loss: 0.5217 - accuracy: 0.7436\n",
      "Epoch 22/100\n",
      "5/5 [==============================] - 0s 5ms/step - loss: 0.5152 - accuracy: 0.7628\n",
      "Epoch 23/100\n",
      "5/5 [==============================] - 0s 5ms/step - loss: 0.5070 - accuracy: 0.7821\n",
      "Epoch 24/100\n",
      "5/5 [==============================] - 0s 5ms/step - loss: 0.5028 - accuracy: 0.7756\n",
      "Epoch 25/100\n",
      "5/5 [==============================] - 0s 5ms/step - loss: 0.4938 - accuracy: 0.7692\n",
      "Epoch 26/100\n",
      "5/5 [==============================] - 0s 5ms/step - loss: 0.4982 - accuracy: 0.7756\n",
      "Epoch 27/100\n",
      "5/5 [==============================] - 0s 5ms/step - loss: 0.4850 - accuracy: 0.7756\n",
      "Epoch 28/100\n",
      "5/5 [==============================] - 0s 5ms/step - loss: 0.4793 - accuracy: 0.7949\n",
      "Epoch 29/100\n",
      "5/5 [==============================] - 0s 5ms/step - loss: 0.4741 - accuracy: 0.8141\n",
      "Epoch 30/100\n",
      "5/5 [==============================] - 0s 5ms/step - loss: 0.4797 - accuracy: 0.8013\n",
      "Epoch 31/100\n",
      "5/5 [==============================] - 0s 5ms/step - loss: 0.4680 - accuracy: 0.7949\n",
      "Epoch 32/100\n",
      "5/5 [==============================] - 0s 5ms/step - loss: 0.4697 - accuracy: 0.8077\n",
      "Epoch 33/100\n",
      "5/5 [==============================] - 0s 5ms/step - loss: 0.4610 - accuracy: 0.8013\n",
      "Epoch 34/100\n",
      "5/5 [==============================] - 0s 5ms/step - loss: 0.4598 - accuracy: 0.8333\n",
      "Epoch 35/100\n",
      "5/5 [==============================] - 0s 5ms/step - loss: 0.4596 - accuracy: 0.8141\n",
      "Epoch 36/100\n",
      "5/5 [==============================] - 0s 5ms/step - loss: 0.4572 - accuracy: 0.8141\n",
      "Epoch 37/100\n",
      "5/5 [==============================] - 0s 6ms/step - loss: 0.4536 - accuracy: 0.8141\n",
      "Epoch 38/100\n",
      "5/5 [==============================] - 0s 5ms/step - loss: 0.4506 - accuracy: 0.8269\n",
      "Epoch 39/100\n",
      "5/5 [==============================] - 0s 5ms/step - loss: 0.4576 - accuracy: 0.8205\n",
      "Epoch 40/100\n",
      "5/5 [==============================] - 0s 5ms/step - loss: 0.4517 - accuracy: 0.8205\n",
      "Epoch 41/100\n",
      "5/5 [==============================] - 0s 5ms/step - loss: 0.4646 - accuracy: 0.8141\n",
      "Epoch 42/100\n",
      "5/5 [==============================] - 0s 5ms/step - loss: 0.4514 - accuracy: 0.8077\n",
      "Epoch 43/100\n",
      "5/5 [==============================] - 0s 5ms/step - loss: 0.4433 - accuracy: 0.8141\n",
      "Epoch 44/100\n",
      "5/5 [==============================] - 0s 5ms/step - loss: 0.4417 - accuracy: 0.8077\n",
      "Epoch 45/100\n",
      "5/5 [==============================] - 0s 5ms/step - loss: 0.4427 - accuracy: 0.8141\n",
      "Epoch 46/100\n",
      "5/5 [==============================] - 0s 5ms/step - loss: 0.4412 - accuracy: 0.8205\n",
      "Epoch 47/100\n",
      "5/5 [==============================] - 0s 5ms/step - loss: 0.4392 - accuracy: 0.8077\n",
      "Epoch 48/100\n",
      "5/5 [==============================] - 0s 5ms/step - loss: 0.4355 - accuracy: 0.8141\n",
      "Epoch 49/100\n",
      "5/5 [==============================] - 0s 5ms/step - loss: 0.4347 - accuracy: 0.8205\n",
      "Epoch 50/100\n",
      "5/5 [==============================] - 0s 5ms/step - loss: 0.4483 - accuracy: 0.7885\n",
      "Epoch 51/100\n",
      "5/5 [==============================] - 0s 5ms/step - loss: 0.4367 - accuracy: 0.7885\n",
      "Epoch 52/100\n",
      "5/5 [==============================] - 0s 5ms/step - loss: 0.4412 - accuracy: 0.8077\n",
      "Epoch 53/100\n",
      "5/5 [==============================] - 0s 5ms/step - loss: 0.4354 - accuracy: 0.8205\n",
      "Epoch 54/100\n",
      "5/5 [==============================] - 0s 5ms/step - loss: 0.4297 - accuracy: 0.8205\n",
      "Epoch 55/100\n",
      "5/5 [==============================] - 0s 5ms/step - loss: 0.4303 - accuracy: 0.8205\n",
      "Epoch 56/100\n",
      "5/5 [==============================] - 0s 9ms/step - loss: 0.4366 - accuracy: 0.8141\n",
      "Epoch 57/100\n",
      "5/5 [==============================] - 0s 5ms/step - loss: 0.4461 - accuracy: 0.8013\n",
      "Epoch 58/100\n",
      "5/5 [==============================] - 0s 5ms/step - loss: 0.4320 - accuracy: 0.8205\n",
      "Epoch 59/100\n",
      "5/5 [==============================] - 0s 5ms/step - loss: 0.4327 - accuracy: 0.8141\n",
      "Epoch 60/100\n",
      "5/5 [==============================] - 0s 5ms/step - loss: 0.4291 - accuracy: 0.8077\n",
      "Epoch 61/100\n",
      "5/5 [==============================] - 0s 5ms/step - loss: 0.4229 - accuracy: 0.8205\n",
      "Epoch 62/100\n",
      "5/5 [==============================] - 0s 5ms/step - loss: 0.4228 - accuracy: 0.8205\n",
      "Epoch 63/100\n",
      "5/5 [==============================] - 0s 5ms/step - loss: 0.4203 - accuracy: 0.8141\n",
      "Epoch 64/100\n",
      "5/5 [==============================] - 0s 5ms/step - loss: 0.4200 - accuracy: 0.8205\n",
      "Epoch 65/100\n",
      "5/5 [==============================] - 0s 5ms/step - loss: 0.4247 - accuracy: 0.8205\n",
      "Epoch 66/100\n",
      "5/5 [==============================] - 0s 5ms/step - loss: 0.4194 - accuracy: 0.8205\n",
      "Epoch 67/100\n",
      "5/5 [==============================] - 0s 5ms/step - loss: 0.4199 - accuracy: 0.8205\n",
      "Epoch 68/100\n",
      "5/5 [==============================] - 0s 5ms/step - loss: 0.4240 - accuracy: 0.8269\n",
      "Epoch 69/100\n",
      "5/5 [==============================] - 0s 5ms/step - loss: 0.4160 - accuracy: 0.8205\n",
      "Epoch 70/100\n",
      "5/5 [==============================] - 0s 5ms/step - loss: 0.4172 - accuracy: 0.8397\n",
      "Epoch 71/100\n",
      "5/5 [==============================] - 0s 5ms/step - loss: 0.4245 - accuracy: 0.8077\n",
      "Epoch 72/100\n",
      "5/5 [==============================] - 0s 5ms/step - loss: 0.4173 - accuracy: 0.8269\n",
      "Epoch 73/100\n",
      "5/5 [==============================] - 0s 5ms/step - loss: 0.4194 - accuracy: 0.8077\n",
      "Epoch 74/100\n",
      "5/5 [==============================] - 0s 5ms/step - loss: 0.4179 - accuracy: 0.8141\n",
      "Epoch 75/100\n",
      "5/5 [==============================] - 0s 5ms/step - loss: 0.4173 - accuracy: 0.8141\n",
      "Epoch 76/100\n",
      "5/5 [==============================] - 0s 5ms/step - loss: 0.4131 - accuracy: 0.8269\n",
      "Epoch 77/100\n",
      "5/5 [==============================] - 0s 5ms/step - loss: 0.4156 - accuracy: 0.8269\n",
      "Epoch 78/100\n",
      "5/5 [==============================] - 0s 5ms/step - loss: 0.4120 - accuracy: 0.8141\n",
      "Epoch 79/100\n",
      "5/5 [==============================] - 0s 5ms/step - loss: 0.4153 - accuracy: 0.8269\n",
      "Epoch 80/100\n",
      "5/5 [==============================] - 0s 5ms/step - loss: 0.4108 - accuracy: 0.8333\n",
      "Epoch 81/100\n",
      "5/5 [==============================] - 0s 5ms/step - loss: 0.4129 - accuracy: 0.8205\n",
      "Epoch 82/100\n",
      "5/5 [==============================] - 0s 5ms/step - loss: 0.4160 - accuracy: 0.8333\n",
      "Epoch 83/100\n",
      "5/5 [==============================] - 0s 5ms/step - loss: 0.4094 - accuracy: 0.8205\n",
      "Epoch 84/100\n",
      "5/5 [==============================] - 0s 5ms/step - loss: 0.4115 - accuracy: 0.8333\n",
      "Epoch 85/100\n",
      "5/5 [==============================] - 0s 5ms/step - loss: 0.4104 - accuracy: 0.8205\n",
      "Epoch 86/100\n",
      "5/5 [==============================] - 0s 5ms/step - loss: 0.4112 - accuracy: 0.8269\n",
      "Epoch 87/100\n",
      "5/5 [==============================] - 0s 5ms/step - loss: 0.4118 - accuracy: 0.8205\n",
      "Epoch 88/100\n",
      "5/5 [==============================] - 0s 5ms/step - loss: 0.4054 - accuracy: 0.8077\n",
      "Epoch 89/100\n",
      "5/5 [==============================] - 0s 5ms/step - loss: 0.4058 - accuracy: 0.8333\n",
      "Epoch 90/100\n",
      "5/5 [==============================] - 0s 5ms/step - loss: 0.4054 - accuracy: 0.8269\n",
      "Epoch 91/100\n",
      "5/5 [==============================] - 0s 5ms/step - loss: 0.4066 - accuracy: 0.8205\n",
      "Epoch 92/100\n",
      "5/5 [==============================] - 0s 5ms/step - loss: 0.4034 - accuracy: 0.8269\n",
      "Epoch 93/100\n",
      "5/5 [==============================] - 0s 5ms/step - loss: 0.4069 - accuracy: 0.8269\n",
      "Epoch 94/100\n",
      "5/5 [==============================] - 0s 5ms/step - loss: 0.4027 - accuracy: 0.8269\n",
      "Epoch 95/100\n",
      "5/5 [==============================] - 0s 5ms/step - loss: 0.4116 - accuracy: 0.8205\n",
      "Epoch 96/100\n",
      "5/5 [==============================] - 0s 5ms/step - loss: 0.4104 - accuracy: 0.8333\n",
      "Epoch 97/100\n",
      "5/5 [==============================] - 0s 5ms/step - loss: 0.4118 - accuracy: 0.8141\n",
      "Epoch 98/100\n",
      "5/5 [==============================] - 0s 5ms/step - loss: 0.4030 - accuracy: 0.8333\n",
      "Epoch 99/100\n",
      "5/5 [==============================] - 0s 5ms/step - loss: 0.4063 - accuracy: 0.8333\n",
      "Epoch 100/100\n",
      "5/5 [==============================] - 0s 5ms/step - loss: 0.4004 - accuracy: 0.8397\n"
     ]
    },
    {
     "data": {
      "text/plain": [
       "<keras.src.callbacks.History at 0x32dd955e0>"
      ]
     },
     "execution_count": 33,
     "metadata": {},
     "output_type": "execute_result"
    }
   ],
   "source": [
    "from tensorflow import keras\n",
    "\n",
    "model = keras.Sequential([\n",
    "    keras.layers.Dense(60, input_dim=60, activation='relu'),\n",
    "    keras.layers.Dense(30, activation='relu'),\n",
    "    keras.layers.Dense(15, activation='relu'),\n",
    "    keras.layers.Dense(1, activation='sigmoid')\n",
    "])\n",
    "\n",
    "model.compile(optimizer='adam', loss = keras.losses.binary_crossentropy, metrics=['accuracy'])\n",
    "\n",
    "model.fit(X_train, y_train, epochs=100)"
   ]
  },
  {
   "cell_type": "code",
   "execution_count": 34,
   "metadata": {},
   "outputs": [
    {
     "name": "stdout",
     "output_type": "stream",
     "text": [
      "2/2 [==============================] - 0s 48ms/step - loss: 0.2547 - accuracy: 0.8654\n"
     ]
    },
    {
     "name": "stderr",
     "output_type": "stream",
     "text": [
      "2024-06-18 00:00:01.202268: I tensorflow/core/grappler/optimizers/custom_graph_optimizer_registry.cc:114] Plugin optimizer for device_type GPU is enabled.\n"
     ]
    },
    {
     "data": {
      "text/plain": [
       "[0.25469350814819336, 0.8653846383094788]"
      ]
     },
     "execution_count": 34,
     "metadata": {},
     "output_type": "execute_result"
    }
   ],
   "source": [
    "model.evaluate(X_test, y_test)"
   ]
  },
  {
   "cell_type": "code",
   "execution_count": 43,
   "metadata": {},
   "outputs": [
    {
     "name": "stdout",
     "output_type": "stream",
     "text": [
      "2/2 [==============================] - 0s 7ms/step\n"
     ]
    },
    {
     "name": "stderr",
     "output_type": "stream",
     "text": [
      "2024-06-18 00:05:55.633088: I tensorflow/core/grappler/optimizers/custom_graph_optimizer_registry.cc:114] Plugin optimizer for device_type GPU is enabled.\n"
     ]
    }
   ],
   "source": [
    "y_pred = np.round(model.predict(X_test).reshape(-1))"
   ]
  },
  {
   "cell_type": "code",
   "execution_count": 44,
   "metadata": {},
   "outputs": [
    {
     "name": "stdout",
     "output_type": "stream",
     "text": [
      "              precision    recall  f1-score   support\n",
      "\n",
      "           0       0.88      0.93      0.90        30\n",
      "           1       0.90      0.82      0.86        22\n",
      "\n",
      "    accuracy                           0.88        52\n",
      "   macro avg       0.89      0.88      0.88        52\n",
      "weighted avg       0.89      0.88      0.88        52\n",
      "\n"
     ]
    }
   ],
   "source": [
    "from sklearn.metrics import classification_report\n",
    "\n",
    "print(classification_report(y_test, y_pred_2))"
   ]
  },
  {
   "cell_type": "code",
   "execution_count": 41,
   "metadata": {},
   "outputs": [
    {
     "name": "stdout",
     "output_type": "stream",
     "text": [
      "Epoch 1/100\n"
     ]
    },
    {
     "name": "stderr",
     "output_type": "stream",
     "text": [
      "2024-06-18 00:05:00.228608: I tensorflow/core/grappler/optimizers/custom_graph_optimizer_registry.cc:114] Plugin optimizer for device_type GPU is enabled.\n"
     ]
    },
    {
     "name": "stdout",
     "output_type": "stream",
     "text": [
      "5/5 [==============================] - 1s 39ms/step - loss: 0.8152 - accuracy: 0.5577\n",
      "Epoch 2/100\n",
      "5/5 [==============================] - 0s 7ms/step - loss: 0.8194 - accuracy: 0.5321\n",
      "Epoch 3/100\n",
      "5/5 [==============================] - 0s 6ms/step - loss: 0.8264 - accuracy: 0.5064\n",
      "Epoch 4/100\n",
      "5/5 [==============================] - 0s 6ms/step - loss: 0.8002 - accuracy: 0.5256\n",
      "Epoch 5/100\n",
      "5/5 [==============================] - 0s 6ms/step - loss: 0.8142 - accuracy: 0.4936\n",
      "Epoch 6/100\n",
      "5/5 [==============================] - 0s 5ms/step - loss: 0.7772 - accuracy: 0.5769\n",
      "Epoch 7/100\n",
      "5/5 [==============================] - 0s 6ms/step - loss: 0.7339 - accuracy: 0.5641\n",
      "Epoch 8/100\n",
      "5/5 [==============================] - 0s 5ms/step - loss: 0.8180 - accuracy: 0.5256\n",
      "Epoch 9/100\n",
      "5/5 [==============================] - 0s 5ms/step - loss: 0.7272 - accuracy: 0.5833\n",
      "Epoch 10/100\n",
      "5/5 [==============================] - 0s 5ms/step - loss: 0.7594 - accuracy: 0.5705\n",
      "Epoch 11/100\n",
      "5/5 [==============================] - 0s 7ms/step - loss: 0.7292 - accuracy: 0.5064\n",
      "Epoch 12/100\n",
      "5/5 [==============================] - 0s 5ms/step - loss: 0.7151 - accuracy: 0.5449\n",
      "Epoch 13/100\n",
      "5/5 [==============================] - 0s 5ms/step - loss: 0.7212 - accuracy: 0.5192\n",
      "Epoch 14/100\n",
      "5/5 [==============================] - 0s 5ms/step - loss: 0.6855 - accuracy: 0.6218\n",
      "Epoch 15/100\n",
      "5/5 [==============================] - 0s 5ms/step - loss: 0.7027 - accuracy: 0.5449\n",
      "Epoch 16/100\n",
      "5/5 [==============================] - 0s 5ms/step - loss: 0.7626 - accuracy: 0.4615\n",
      "Epoch 17/100\n",
      "5/5 [==============================] - 0s 5ms/step - loss: 0.7155 - accuracy: 0.5192\n",
      "Epoch 18/100\n",
      "5/5 [==============================] - 0s 6ms/step - loss: 0.6809 - accuracy: 0.5769\n",
      "Epoch 19/100\n",
      "5/5 [==============================] - 0s 6ms/step - loss: 0.6981 - accuracy: 0.5769\n",
      "Epoch 20/100\n",
      "5/5 [==============================] - 0s 6ms/step - loss: 0.7748 - accuracy: 0.5385\n",
      "Epoch 21/100\n",
      "5/5 [==============================] - 0s 6ms/step - loss: 0.7010 - accuracy: 0.6090\n",
      "Epoch 22/100\n",
      "5/5 [==============================] - 0s 5ms/step - loss: 0.7059 - accuracy: 0.5962\n",
      "Epoch 23/100\n",
      "5/5 [==============================] - 0s 5ms/step - loss: 0.6538 - accuracy: 0.6218\n",
      "Epoch 24/100\n",
      "5/5 [==============================] - 0s 6ms/step - loss: 0.6810 - accuracy: 0.6154\n",
      "Epoch 25/100\n",
      "5/5 [==============================] - 0s 5ms/step - loss: 0.6243 - accuracy: 0.6795\n",
      "Epoch 26/100\n",
      "5/5 [==============================] - 0s 5ms/step - loss: 0.6108 - accuracy: 0.6603\n",
      "Epoch 27/100\n",
      "5/5 [==============================] - 0s 6ms/step - loss: 0.6433 - accuracy: 0.6538\n",
      "Epoch 28/100\n",
      "5/5 [==============================] - 0s 6ms/step - loss: 0.6441 - accuracy: 0.6090\n",
      "Epoch 29/100\n",
      "5/5 [==============================] - 0s 5ms/step - loss: 0.6636 - accuracy: 0.6090\n",
      "Epoch 30/100\n",
      "5/5 [==============================] - 0s 5ms/step - loss: 0.5944 - accuracy: 0.6731\n",
      "Epoch 31/100\n",
      "5/5 [==============================] - 0s 5ms/step - loss: 0.6971 - accuracy: 0.5897\n",
      "Epoch 32/100\n",
      "5/5 [==============================] - 0s 5ms/step - loss: 0.5994 - accuracy: 0.6731\n",
      "Epoch 33/100\n",
      "5/5 [==============================] - 0s 6ms/step - loss: 0.5578 - accuracy: 0.7179\n",
      "Epoch 34/100\n",
      "5/5 [==============================] - 0s 6ms/step - loss: 0.6011 - accuracy: 0.6923\n",
      "Epoch 35/100\n",
      "5/5 [==============================] - 0s 6ms/step - loss: 0.6011 - accuracy: 0.6667\n",
      "Epoch 36/100\n",
      "5/5 [==============================] - 0s 6ms/step - loss: 0.5637 - accuracy: 0.7115\n",
      "Epoch 37/100\n",
      "5/5 [==============================] - 0s 6ms/step - loss: 0.5662 - accuracy: 0.7244\n",
      "Epoch 38/100\n",
      "5/5 [==============================] - 0s 6ms/step - loss: 0.5784 - accuracy: 0.6987\n",
      "Epoch 39/100\n",
      "5/5 [==============================] - 0s 6ms/step - loss: 0.5807 - accuracy: 0.6987\n",
      "Epoch 40/100\n",
      "5/5 [==============================] - 0s 5ms/step - loss: 0.5861 - accuracy: 0.6667\n",
      "Epoch 41/100\n",
      "5/5 [==============================] - 0s 5ms/step - loss: 0.5812 - accuracy: 0.6731\n",
      "Epoch 42/100\n",
      "5/5 [==============================] - 0s 5ms/step - loss: 0.5274 - accuracy: 0.7628\n",
      "Epoch 43/100\n",
      "5/5 [==============================] - 0s 5ms/step - loss: 0.5416 - accuracy: 0.7244\n",
      "Epoch 44/100\n",
      "5/5 [==============================] - 0s 5ms/step - loss: 0.5491 - accuracy: 0.7115\n",
      "Epoch 45/100\n",
      "5/5 [==============================] - 0s 5ms/step - loss: 0.5553 - accuracy: 0.7628\n",
      "Epoch 46/100\n",
      "5/5 [==============================] - 0s 5ms/step - loss: 0.5702 - accuracy: 0.6987\n",
      "Epoch 47/100\n",
      "5/5 [==============================] - 0s 5ms/step - loss: 0.5231 - accuracy: 0.6923\n",
      "Epoch 48/100\n",
      "5/5 [==============================] - 0s 6ms/step - loss: 0.5426 - accuracy: 0.6859\n",
      "Epoch 49/100\n",
      "5/5 [==============================] - 0s 6ms/step - loss: 0.5839 - accuracy: 0.7372\n",
      "Epoch 50/100\n",
      "5/5 [==============================] - 0s 13ms/step - loss: 0.5456 - accuracy: 0.7500\n",
      "Epoch 51/100\n",
      "5/5 [==============================] - 0s 6ms/step - loss: 0.5351 - accuracy: 0.7115\n",
      "Epoch 52/100\n",
      "5/5 [==============================] - 0s 6ms/step - loss: 0.5223 - accuracy: 0.7308\n",
      "Epoch 53/100\n",
      "5/5 [==============================] - 0s 6ms/step - loss: 0.5401 - accuracy: 0.7179\n",
      "Epoch 54/100\n",
      "5/5 [==============================] - 0s 7ms/step - loss: 0.5419 - accuracy: 0.7115\n",
      "Epoch 55/100\n",
      "5/5 [==============================] - 0s 6ms/step - loss: 0.5218 - accuracy: 0.7372\n",
      "Epoch 56/100\n",
      "5/5 [==============================] - 0s 6ms/step - loss: 0.5036 - accuracy: 0.7756\n",
      "Epoch 57/100\n",
      "5/5 [==============================] - 0s 5ms/step - loss: 0.4919 - accuracy: 0.7244\n",
      "Epoch 58/100\n",
      "5/5 [==============================] - 0s 6ms/step - loss: 0.4958 - accuracy: 0.7628\n",
      "Epoch 59/100\n",
      "5/5 [==============================] - 0s 5ms/step - loss: 0.4878 - accuracy: 0.7692\n",
      "Epoch 60/100\n",
      "5/5 [==============================] - 0s 5ms/step - loss: 0.4416 - accuracy: 0.8013\n",
      "Epoch 61/100\n",
      "5/5 [==============================] - 0s 5ms/step - loss: 0.5024 - accuracy: 0.7372\n",
      "Epoch 62/100\n",
      "5/5 [==============================] - 0s 5ms/step - loss: 0.5153 - accuracy: 0.7244\n",
      "Epoch 63/100\n",
      "5/5 [==============================] - 0s 5ms/step - loss: 0.5074 - accuracy: 0.7500\n",
      "Epoch 64/100\n",
      "5/5 [==============================] - 0s 5ms/step - loss: 0.4974 - accuracy: 0.7821\n",
      "Epoch 65/100\n",
      "5/5 [==============================] - 0s 5ms/step - loss: 0.4521 - accuracy: 0.7821\n",
      "Epoch 66/100\n",
      "5/5 [==============================] - 0s 5ms/step - loss: 0.5249 - accuracy: 0.7308\n",
      "Epoch 67/100\n",
      "5/5 [==============================] - 0s 5ms/step - loss: 0.5447 - accuracy: 0.7436\n",
      "Epoch 68/100\n",
      "5/5 [==============================] - 0s 5ms/step - loss: 0.4794 - accuracy: 0.7821\n",
      "Epoch 69/100\n",
      "5/5 [==============================] - 0s 5ms/step - loss: 0.5077 - accuracy: 0.7436\n",
      "Epoch 70/100\n",
      "5/5 [==============================] - 0s 5ms/step - loss: 0.4621 - accuracy: 0.7500\n",
      "Epoch 71/100\n",
      "5/5 [==============================] - 0s 5ms/step - loss: 0.4735 - accuracy: 0.8013\n",
      "Epoch 72/100\n",
      "5/5 [==============================] - 0s 5ms/step - loss: 0.4504 - accuracy: 0.8077\n",
      "Epoch 73/100\n",
      "5/5 [==============================] - 0s 5ms/step - loss: 0.5030 - accuracy: 0.7885\n",
      "Epoch 74/100\n",
      "5/5 [==============================] - 0s 5ms/step - loss: 0.4698 - accuracy: 0.7821\n",
      "Epoch 75/100\n",
      "5/5 [==============================] - 0s 5ms/step - loss: 0.4861 - accuracy: 0.7500\n",
      "Epoch 76/100\n",
      "5/5 [==============================] - 0s 6ms/step - loss: 0.4993 - accuracy: 0.7436\n",
      "Epoch 77/100\n",
      "5/5 [==============================] - 0s 5ms/step - loss: 0.4857 - accuracy: 0.7949\n",
      "Epoch 78/100\n",
      "5/5 [==============================] - 0s 5ms/step - loss: 0.4608 - accuracy: 0.8269\n",
      "Epoch 79/100\n",
      "5/5 [==============================] - 0s 5ms/step - loss: 0.4918 - accuracy: 0.8077\n",
      "Epoch 80/100\n",
      "5/5 [==============================] - 0s 5ms/step - loss: 0.4474 - accuracy: 0.8205\n",
      "Epoch 81/100\n",
      "5/5 [==============================] - 0s 5ms/step - loss: 0.5111 - accuracy: 0.7500\n",
      "Epoch 82/100\n",
      "5/5 [==============================] - 0s 5ms/step - loss: 0.4950 - accuracy: 0.7436\n",
      "Epoch 83/100\n",
      "5/5 [==============================] - 0s 5ms/step - loss: 0.4833 - accuracy: 0.7949\n",
      "Epoch 84/100\n",
      "5/5 [==============================] - 0s 6ms/step - loss: 0.4783 - accuracy: 0.7821\n",
      "Epoch 85/100\n",
      "5/5 [==============================] - 0s 6ms/step - loss: 0.4892 - accuracy: 0.8013\n",
      "Epoch 86/100\n",
      "5/5 [==============================] - 0s 6ms/step - loss: 0.4642 - accuracy: 0.7756\n",
      "Epoch 87/100\n",
      "5/5 [==============================] - 0s 5ms/step - loss: 0.4415 - accuracy: 0.7885\n",
      "Epoch 88/100\n",
      "5/5 [==============================] - 0s 6ms/step - loss: 0.4838 - accuracy: 0.7756\n",
      "Epoch 89/100\n",
      "5/5 [==============================] - 0s 5ms/step - loss: 0.4853 - accuracy: 0.7372\n",
      "Epoch 90/100\n",
      "5/5 [==============================] - 0s 6ms/step - loss: 0.4524 - accuracy: 0.8205\n",
      "Epoch 91/100\n",
      "5/5 [==============================] - 0s 5ms/step - loss: 0.4649 - accuracy: 0.7436\n",
      "Epoch 92/100\n",
      "5/5 [==============================] - 0s 5ms/step - loss: 0.5102 - accuracy: 0.7500\n",
      "Epoch 93/100\n",
      "5/5 [==============================] - 0s 5ms/step - loss: 0.4855 - accuracy: 0.7821\n",
      "Epoch 94/100\n",
      "5/5 [==============================] - 0s 5ms/step - loss: 0.4880 - accuracy: 0.7756\n",
      "Epoch 95/100\n",
      "5/5 [==============================] - 0s 5ms/step - loss: 0.4572 - accuracy: 0.8077\n",
      "Epoch 96/100\n",
      "5/5 [==============================] - 0s 5ms/step - loss: 0.4794 - accuracy: 0.7885\n",
      "Epoch 97/100\n",
      "5/5 [==============================] - 0s 6ms/step - loss: 0.4842 - accuracy: 0.7821\n",
      "Epoch 98/100\n",
      "5/5 [==============================] - 0s 7ms/step - loss: 0.4639 - accuracy: 0.8269\n",
      "Epoch 99/100\n",
      "5/5 [==============================] - 0s 6ms/step - loss: 0.4589 - accuracy: 0.7692\n",
      "Epoch 100/100\n",
      "5/5 [==============================] - 0s 6ms/step - loss: 0.4713 - accuracy: 0.7628\n"
     ]
    },
    {
     "data": {
      "text/plain": [
       "<keras.src.callbacks.History at 0x32621cf10>"
      ]
     },
     "execution_count": 41,
     "metadata": {},
     "output_type": "execute_result"
    }
   ],
   "source": [
    "model_2 = keras.Sequential([\n",
    "    keras.layers.Dense(60, input_dim=60, activation='relu'),\n",
    "    keras.layers.Dropout(0.3),\n",
    "    keras.layers.Dense(30, activation='relu'),\n",
    "    keras.layers.Dropout(0.3),\n",
    "    keras.layers.Dense(15, activation='relu'),\n",
    "    keras.layers.Dropout(0.3),\n",
    "    keras.layers.Dense(1, activation='sigmoid')\n",
    "])\n",
    "\n",
    "model_2.compile(optimizer='adam', loss = keras.losses.binary_crossentropy, metrics=['accuracy'])\n",
    "\n",
    "model_2.fit(X_train, y_train, epochs=100)"
   ]
  },
  {
   "cell_type": "code",
   "execution_count": 42,
   "metadata": {},
   "outputs": [
    {
     "name": "stdout",
     "output_type": "stream",
     "text": [
      "2/2 [==============================] - 0s 40ms/step - loss: 0.2845 - accuracy: 0.8846\n"
     ]
    },
    {
     "name": "stderr",
     "output_type": "stream",
     "text": [
      "2024-06-18 00:05:08.744922: I tensorflow/core/grappler/optimizers/custom_graph_optimizer_registry.cc:114] Plugin optimizer for device_type GPU is enabled.\n"
     ]
    },
    {
     "data": {
      "text/plain": [
       "[0.28449076414108276, 0.8846153616905212]"
      ]
     },
     "execution_count": 42,
     "metadata": {},
     "output_type": "execute_result"
    }
   ],
   "source": [
    "model_2.evaluate(X_test, y_test)"
   ]
  },
  {
   "cell_type": "code",
   "execution_count": 45,
   "metadata": {},
   "outputs": [
    {
     "name": "stdout",
     "output_type": "stream",
     "text": [
      "2/2 [==============================] - 0s 3ms/step\n"
     ]
    }
   ],
   "source": [
    "y_pred_2 = np.round(model_2.predict(X_test).reshape(-1))"
   ]
  },
  {
   "cell_type": "code",
   "execution_count": 46,
   "metadata": {},
   "outputs": [
    {
     "name": "stdout",
     "output_type": "stream",
     "text": [
      "              precision    recall  f1-score   support\n",
      "\n",
      "           0       0.88      0.93      0.90        30\n",
      "           1       0.90      0.82      0.86        22\n",
      "\n",
      "    accuracy                           0.88        52\n",
      "   macro avg       0.89      0.88      0.88        52\n",
      "weighted avg       0.89      0.88      0.88        52\n",
      "\n"
     ]
    }
   ],
   "source": [
    "print(classification_report(y_test,y_pred_2))"
   ]
  }
 ],
 "metadata": {
  "kernelspec": {
   "display_name": "myenv",
   "language": "python",
   "name": "python3"
  },
  "language_info": {
   "codemirror_mode": {
    "name": "ipython",
    "version": 3
   },
   "file_extension": ".py",
   "mimetype": "text/x-python",
   "name": "python",
   "nbconvert_exporter": "python",
   "pygments_lexer": "ipython3",
   "version": "3.8.19"
  }
 },
 "nbformat": 4,
 "nbformat_minor": 2
}
